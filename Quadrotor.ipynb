{
 "cells": [
  {
   "cell_type": "markdown",
   "metadata": {},
   "source": [
    "# An OpenSCAD Quadrotor in Juypterlab\n",
    "This is workbook demonstrates how to use the [OpenSCAD kernel](https://github.com/pschatzmann/IOpenSCAD) in Jupyterlab to build a Quadrotor Model directly using the OpenSCAD syntax.\n",
    "\n",
    "If serves as a proof of concept to identify the strengths and weaknesses of the current design.\n",
    "\n",
    "## Setup\n",
    "We start with an initial setup of the environment. \n",
    "This way we will get some consistent results if we decided to run all cells"
   ]
  },
  {
   "cell_type": "code",
   "execution_count": null,
   "metadata": {},
   "outputs": [],
   "source": [
    "%clear\n",
    "%mime image/png\n",
    "%command xvfb-run --auto-servernum --server-num=99 openscad\n"
   ]
  },
  {
   "cell_type": "markdown",
   "metadata": {},
   "source": [
    "## Variables\n",
    "We can define some varibles that we want to use in our design"
   ]
  },
  {
   "cell_type": "code",
   "execution_count": null,
   "metadata": {},
   "outputs": [],
   "source": [
    "$fn = 80;\n",
    "heightMotor = 6;\n",
    "motorDiameter = 8.6;\n",
    "outerRingDiameter = 75;\n",
    "pinHeight = 10;\n",
    "quadHeight = 3;\n",
    "quadWidth = 1;\n"
   ]
  },
  {
   "cell_type": "markdown",
   "metadata": {},
   "source": [
    "## Constructing a Motor Section\n",
    "We start to define a ring in the expected size  of our propellers. This is just the difference between 2 cylinders"
   ]
  },
  {
   "cell_type": "code",
   "execution_count": null,
   "metadata": {},
   "outputs": [],
   "source": [
    "module motorRing() {  \n",
    "    difference()  {\n",
    "            cylinder(h=quadHeight,d=outerRingDiameter,center=true); \n",
    "            cylinder(h=quadHeight*2,d=outerRingDiameter-(quadWidth*2),center=true); \n",
    "    } \n",
    "}\n",
    "\n",
    "%display motorRing();"
   ]
  },
  {
   "cell_type": "markdown",
   "metadata": {},
   "source": [
    "The motor will be mounted on an inner cylider"
   ]
  },
  {
   "cell_type": "code",
   "execution_count": null,
   "metadata": {},
   "outputs": [],
   "source": [
    "module motorInnerRing() {\n",
    "    translate([0,0,-(quadHeight/2)]) cylinder(h=heightMotor,d=motorDiameter,center=true); \n",
    "}\n",
    "\n",
    "%display motorInnerRing(); motorRing();"
   ]
  },
  {
   "cell_type": "markdown",
   "metadata": {},
   "source": [
    "We add some spokes by rotating a cube:"
   ]
  },
  {
   "cell_type": "code",
   "execution_count": null,
   "metadata": {},
   "outputs": [],
   "source": [
    "module motorBase() {\n",
    "    union()  {\n",
    "            motorRing();\n",
    "            motorInnerRing();\n",
    "            cube([outerRingDiameter,quadWidth,quadHeight],center=true); \n",
    "            rotate(a=[0,0,45]) cube([outerRingDiameter,quadWidth,quadHeight],center=true); \n",
    "            cube([quadWidth,outerRingDiameter,quadHeight],center=true); \n",
    "            rotate(a=[0,0,45]) cube([quadWidth,outerRingDiameter,quadHeight],center=true); \n",
    "    } \n",
    "}\n",
    "\n",
    "%display motorBase();"
   ]
  },
  {
   "cell_type": "markdown",
   "metadata": {},
   "source": [
    "Finally we just need to cut a hole in the center so that we can fit our planned motor holder"
   ]
  },
  {
   "cell_type": "code",
   "execution_count": null,
   "metadata": {},
   "outputs": [],
   "source": [
    "module motor() {\n",
    "    difference()  {\n",
    "            motorBase();\n",
    "            cylinder(h=heightMotor*3,d=motorDiameter-(quadWidth*3),center=true); \n",
    "    } \n",
    "}\n",
    "\n",
    "%display motor();"
   ]
  },
  {
   "cell_type": "markdown",
   "metadata": {},
   "source": [
    "## Constructing the Quad\n",
    "Our quad consists just of the 4 motors displced into the 4 corners"
   ]
  },
  {
   "cell_type": "code",
   "execution_count": null,
   "metadata": {},
   "outputs": [],
   "source": [
    "module quad() {\n",
    "        motorDistance = outerRingDiameter/2;\n",
    "        translate([motorDistance,motorDistance,0]) motor();\n",
    "        translate([-motorDistance,-motorDistance,0]) motor();\n",
    "        translate([motorDistance,-motorDistance,0]) motor();\n",
    "        translate([-motorDistance,motorDistance,0]) motor();\n",
    "}\n",
    "\n",
    "%display quad();"
   ]
  },
  {
   "cell_type": "markdown",
   "metadata": {},
   "source": [
    "## Construction of the Motor Holder\n",
    "\n",
    "We are constructing our motor holder with the help of hollow cylinders"
   ]
  },
  {
   "cell_type": "code",
   "execution_count": null,
   "metadata": {},
   "outputs": [],
   "source": [
    "cutWidth = 1;\n",
    "motorHodlerHeight = 15;\n",
    "motorDiameter = 8.6;\n",
    "pinWidth = 5.75;\n",
    "width = 1;\n",
    "\n",
    "module motorHolder() {\n",
    "    cylinder(h=pinHeight,d=pinWidth); \n",
    "    translate([0.0,0.0,pinHeight]) \n",
    "    difference()  {\n",
    "            cylinder(h=motorHodlerHeight,d=motorDiameter+(width*2)); \n",
    "            translate([0.0,0.0,3.0]) cylinder(h=motorHodlerHeight,d=motorDiameter); \n",
    "    } \n",
    "}\n",
    "\n",
    "%display motorHolder();"
   ]
  },
  {
   "cell_type": "markdown",
   "metadata": {},
   "source": [
    "And we cut out a small section on the side"
   ]
  },
  {
   "cell_type": "code",
   "execution_count": null,
   "metadata": {},
   "outputs": [],
   "source": [
    "module motorHolderWithCut() {\n",
    "    \n",
    "    difference()  {\n",
    "            motorHolder();\n",
    "            translate([0,motorDiameter/2-1,0]) cube([cutWidth,motorDiameter,1000],center=true); \n",
    "    } \n",
    "}\n",
    "\n",
    "%display motorHolderWithCut();"
   ]
  },
  {
   "cell_type": "markdown",
   "metadata": {},
   "source": [
    "# Mounting the Flight Controller \n",
    "We will use a Raspberry PI Case as enclosure for the flight controller which will be put in the center of our Quad.\n",
    "The related SCAD code can be loaded with the help of a %include command. \n",
    "\n",
    "We redefine the numberOfPis parameter which is used to potentially generate multiple stacked case sections:"
   ]
  },
  {
   "cell_type": "code",
   "execution_count": null,
   "metadata": {},
   "outputs": [],
   "source": [
    "%include https://raw.githubusercontent.com/pschatzmann/openscad-models/master/SimpleStackablePi-Zero-Case.scad\n",
    "numberOfPis=1;\n",
    "\n",
    "%display"
   ]
  },
  {
   "cell_type": "markdown",
   "metadata": {},
   "source": [
    "## Putting All Components Together\n",
    "Finally we just need to add the case, the motor holders and the quad and move it so that the PI is ending up in the center"
   ]
  },
  {
   "cell_type": "code",
   "execution_count": null,
   "metadata": {},
   "outputs": [],
   "source": [
    "module finalDesign() {\n",
    "    piCaseBottom();\n",
    "    translate([widthOfPi/2,depthOfPi/2,0]) quad();\n",
    "    translate([-outerRingDiameter,-20,0]) motorHolder();\n",
    "    translate([-outerRingDiameter,0,0]) motorHolder();\n",
    "    translate([-outerRingDiameter,20,0]) motorHolder();\n",
    "    translate([-outerRingDiameter,40,0]) motorHolder();\n",
    "}\n",
    "\n",
    "finalDesign();\n",
    "\n",
    "%%display"
   ]
  },
  {
   "cell_type": "markdown",
   "metadata": {},
   "source": [
    "## Conclusion\n",
    "### Weaknesses\n",
    "- The major issue I was running into was, that I was executing some Markdown as Code which resulted as invalid OpenScad Source Code. So I extended the parsing to issue an error message if the submitted statement could not be parsed and does not end up with a ;\n",
    "- Currently there is no possiblity to exchange information with other kernels to provide some polyglot functionality using different programming languages. However it is unclear if this would give any added value.\n",
    "\n",
    "### Strengths\n",
    "- The possibility to **build the model in steps** and to display the different steps is very powerful \n",
    "- It proofed to be helpfull to be able to define the **rendering command**: So xvfb could be included into the processing w/o the need for any code changes \n",
    "- The possiblity to **use external** models by integrating them with an URL is very helpfull and avoids the need to copy files around. \n",
    "- The programming is in OpenSCAD and the final result is valid OpenSCAD code that can be shared.\n",
    "\n",
    "\n",
    "I think I will start to build my future models with the help of this Kernel.\n",
    "\n",
    "Last but not least here is the complete OpenSCAD code:"
   ]
  },
  {
   "cell_type": "code",
   "execution_count": null,
   "metadata": {},
   "outputs": [],
   "source": [
    "%displayCode"
   ]
  },
  {
   "cell_type": "code",
   "execution_count": null,
   "metadata": {},
   "outputs": [],
   "source": [
    "%lsmagic"
   ]
  },
  {
   "cell_type": "code",
   "execution_count": null,
   "metadata": {},
   "outputs": [],
   "source": []
  }
 ],
 "metadata": {
  "kernelspec": {
   "display_name": "OpenSCAD",
   "language": "application-xopenscad",
   "name": "openscad"
  },
  "language_info": {
   "extension": ".scad",
   "mimetype": "application/x-openscad",
   "name": "OpenSCAD"
  },
  "toc": {
   "base_numbering": 1,
   "nav_menu": {},
   "number_sections": false,
   "sideBar": false,
   "skip_h1_title": false,
   "title_cell": "Table of Contents",
   "title_sidebar": "Contents",
   "toc_cell": false,
   "toc_position": {},
   "toc_section_display": false,
   "toc_window_display": false
  },
  "widgets": {
   "application/vnd.jupyter.widget-state+json": {
    "state": {},
    "version_major": 2,
    "version_minor": 0
   }
  }
 },
 "nbformat": 4,
 "nbformat_minor": 4
}
